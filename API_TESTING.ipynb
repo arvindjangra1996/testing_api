{
  "nbformat": 4,
  "nbformat_minor": 0,
  "metadata": {
    "colab": {
      "name": "API_TESTING.ipynb",
      "provenance": [],
      "authorship_tag": "ABX9TyNMiAYB+vl8xqRqO476Ef+u",
      "include_colab_link": true
    },
    "kernelspec": {
      "name": "python3",
      "display_name": "Python 3"
    }
  },
  "cells": [
    {
      "cell_type": "markdown",
      "metadata": {
        "id": "view-in-github",
        "colab_type": "text"
      },
      "source": [
        "<a href=\"https://colab.research.google.com/github/arvindjangra1996/testing_api/blob/master/API_TESTING.ipynb\" target=\"_parent\"><img src=\"https://colab.research.google.com/assets/colab-badge.svg\" alt=\"Open In Colab\"/></a>"
      ]
    },
    {
      "cell_type": "markdown",
      "metadata": {
        "id": "2M5d_77UV7bs",
        "colab_type": "text"
      },
      "source": [
        "Install dependency"
      ]
    },
    {
      "cell_type": "code",
      "metadata": {
        "id": "pl_2em6HU_u4",
        "colab_type": "code",
        "colab": {}
      },
      "source": [
        "!pip install schemathesis==1.1.2"
      ],
      "execution_count": 0,
      "outputs": []
    },
    {
      "cell_type": "code",
      "metadata": {
        "id": "exK5-YFkW1Fx",
        "colab_type": "code",
        "colab": {}
      },
      "source": [
        "from schemathesis import runner, models, loaders\n",
        "from datetime import timedelta\n",
        "from hypothesis import Phase\n",
        "from schemathesis.runner.events import BeforeExecution,AfterExecution\n",
        "\n",
        "class Environments:\n",
        "    Dev = {'apikey': 'YJgvtmHEWY39vxITA2fDW8cdrH6s4Epz9bYvlACE' ,'base_url': 'https://api.sentieo.com/v1'}\n",
        "    Production = { 'apikey':'N4K02o4YFh1VDbsvxlnAa75V4UO0JLJk2Lwm4f1u' ,'base_url': 'https://pzeiwi7e75.execute-api.us-east-1.amazonaws.com/app2'}\n"
      ],
      "execution_count": 0,
      "outputs": []
    },
    {
      "cell_type": "code",
      "metadata": {
        "id": "O8rCAwjTW9Bd",
        "colab_type": "code",
        "colab": {}
      },
      "source": [
        "#checks\n",
        "def check_for_performance(response, case: models.Case):\n",
        "    assert response.elapsed < timedelta(milliseconds=10000)\n",
        "    \n",
        "def check_for_response_status(response,case: models.Case):\n",
        "    assert response.status_code == 200 or response.status_code == 204\n",
        "\n",
        "def after_run(event,reports):\n",
        "    if event.result.path not in reports:\n",
        "        reports[event.result.path] = {}\n",
        "    if event.result.method not in  reports[event.result.path]:\n",
        "        reports[event.result.path][event.result.method] = {}   \n",
        "    reports[event.result.path][event.result.method].update({'status':event.status.name })\n",
        "    \n",
        "    \n",
        "additional_checks = [check_for_performance, check_for_response_status]\n",
        "check_for_apis =  { '/documents/get':   [ check_for_performance ] }"
      ],
      "execution_count": 0,
      "outputs": []
    },
    {
      "cell_type": "code",
      "metadata": {
        "id": "lI0MmwYHXIp-",
        "colab_type": "code",
        "colab": {}
      },
      "source": [
        "\n",
        "github_repo = 'https://raw.githubusercontent.com/usernames/sentieodocs/'\n",
        "github_branch_or_commit = 'monitorBranch'  # use branch or commit_id(example: e7e9fe5279aedaa3cf68406c308f89b7310c93d4 )\n",
        "github_path = '/play-dev/sentieo.json'\n",
        "github_token = '2a85e4e2cdc68408f0ca3690f84f84c914dd20d0'\n",
        "endpoint = '/documents' # to run documents apis. None for running all.\n",
        "\n",
        "reports = {}\n",
        "runner_config = 'threadpool' | 'inprocess'\n",
        "    \n",
        "events = runner.prepare(\n",
        "    schema_uri=json.dumps(schema),  #github_repo+github_branch+github_path,\n",
        "    headers=api_headers,\n",
        "    loader=loaders.from_file,\n",
        "    base_url=gateway_url,\n",
        "    hypothesis_deadline=10000,\n",
        "    checks=additional_checks,\n",
        "    validate_schema=False,\n",
        "    endpoint=endpoint,\n",
        "    hypothesis_phases=[Phase.explicit]\n",
        "    #auth=github_auth\n",
        "    )\n",
        "\n",
        "for event in events:\n",
        "    if isinstance(event,AfterExecution):\n",
        "        after_run(event,reports)\n",
        "        \n",
        "print(reports)"
      ],
      "execution_count": 0,
      "outputs": []
    }
  ]
}