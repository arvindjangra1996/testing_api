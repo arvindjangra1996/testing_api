{
 "cells": [
  {
   "cell_type": "code",
   "execution_count": 39,
   "metadata": {},
   "outputs": [],
   "source": [
    "from schemathesis import runner, models, loaders\n",
    "import requests,json\n",
    "from datetime import timedelta\n",
    "from hypothesis import Phase\n",
    "from schemathesis.runner.events import BeforeExecution,AfterExecution"
   ]
  },
  {
   "cell_type": "code",
   "execution_count": 40,
   "metadata": {},
   "outputs": [],
   "source": [
    "class Environments:\n",
    "    Prod = {'apikey': 'YJgvtmHEWY39vxITA2fDW8cdrH6s4Epz9bYvlACE' ,'base_url': 'https://api.sentieo.com/v1'}\n",
    "    Dev =  {'apikey':'N4K02o4YFh1VDbsvxlnAa75V4UO0JLJk2Lwm4f1u' ,'base_url': 'https://pzeiwi7e75.execute-api.us-east-1.amazonaws.com/devv1'}\n"
   ]
  },
  {
   "cell_type": "code",
   "execution_count": 41,
   "metadata": {},
   "outputs": [],
   "source": [
    "#checks\n",
    "def check_for_performance(response, case: models.Case):\n",
    "    assert response.elapsed < timedelta(milliseconds=10000)\n",
    "    \n",
    "def check_for_response_status(response,case: models.Case):\n",
    "    assert response.status_code == 200 or response.status_code == 204\n",
    "\n",
    "# AfterExecution event of runner     \n",
    "def after_run(event,reports):\n",
    "    if event.result.path not in reports:\n",
    "        reports[event.result.path] = {}\n",
    "    if event.result.method not in  reports[event.result.path]:\n",
    "        reports[event.result.path][event.result.method] = {}   \n",
    "    reports[event.result.path][event.result.method].update({'status':event.status.name })\n",
    "    \n",
    "def get_schema(schema_uri,auth):\n",
    "    schema = json.loads(requests.get(schema_uri,auth=auth).text)\n",
    "    schema['servers'] = [{'url': 'https://api.sentieo.com/'}]\n",
    "    return json.dumps(schema)\n",
    "    \n",
    "additional_checks = [check_for_performance, check_for_response_status]\n",
    "check_for_apis =  { '/documents/get':   [ check_for_performance ] }"
   ]
  },
  {
   "cell_type": "code",
   "execution_count": 42,
   "metadata": {},
   "outputs": [
    {
     "name": "stdout",
     "output_type": "stream",
     "text": [
      "{'/documents/get': {'GET': {'status': 'success'}}, '/documents/search': {'POST': {'status': 'success'}}, '/documents/get-pdf': {'GET': {'status': 'success'}}, '/documents/get-meta': {'GET': {'status': 'success'}}, '/documents/poll': {'GET': {'status': 'success'}}, '/documents/hits': {'GET': {'status': 'success'}}}\n"
     ]
    }
   ],
   "source": [
    "#github repo or https://developer.sentieo.com\n",
    "github_repo = 'https://raw.githubusercontent.com/usernames/sentieodocs/'\n",
    "# use branch or commit_id(example: e7e9fe5279aedaa3cf68406c308f89b7310c93d4 )\n",
    "github_branch_or_commit = 'monitorBranch'\n",
    "#github path or /playground/sentieo.json\n",
    "github_path = '/play-dev/sentieo.json'\n",
    "\n",
    "# (username,access_token) for github repo/ (username,pwd) for developer.sentieo.com\n",
    "auth = ('arvindjangra1996','5435bdc17f8c7b54998b8eba33031fbde8a5dd91')\n",
    "\n",
    "endpoint = '/documents' # to run documents apis. None for running all.\n",
    "\n",
    "schema_uri = github_repo+github_branch_or_commit+github_path\n",
    "\n",
    "reports = {}\n",
    "runner_config = 'threadpool' or 'inprocess'\n",
    "env = Environments.Dev\n",
    "headers = {'x-api-key':env['apikey'] }\n",
    "\n",
    "schema = get_schema(schema_uri,auth)           \n",
    "           \n",
    "events = runner.prepare(\n",
    "    schema_uri= schema,\n",
    "    headers=headers,\n",
    "    loader=loaders.from_file, \n",
    "    base_url=env['base_url'],\n",
    "    hypothesis_deadline=10000,\n",
    "    checks=additional_checks,\n",
    "    validate_schema=False,\n",
    "    endpoint=endpoint,\n",
    "    hypothesis_phases=[Phase.explicit]\n",
    "    )\n",
    "\n",
    "for event in events:\n",
    "    if isinstance(event,AfterExecution):\n",
    "        after_run(event,reports)\n",
    "        \n",
    "print(reports)"
   ]
  },
  {
   "cell_type": "code",
   "execution_count": null,
   "metadata": {},
   "outputs": [],
   "source": []
  },
  {
   "cell_type": "code",
   "execution_count": null,
   "metadata": {},
   "outputs": [],
   "source": []
  }
 ],
 "metadata": {
  "kernelspec": {
   "display_name": "Python 3",
   "language": "python",
   "name": "python3"
  },
  "language_info": {
   "codemirror_mode": {
    "name": "ipython",
    "version": 3
   },
   "file_extension": ".py",
   "mimetype": "text/x-python",
   "name": "python",
   "nbconvert_exporter": "python",
   "pygments_lexer": "ipython3",
   "version": "3.7.5"
  }
 },
 "nbformat": 4,
 "nbformat_minor": 2
}
